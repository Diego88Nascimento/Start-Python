{
  "nbformat": 4,
  "nbformat_minor": 0,
  "metadata": {
    "colab": {
      "provenance": []
    },
    "kernelspec": {
      "name": "python3",
      "display_name": "Python 3"
    },
    "language_info": {
      "name": "python"
    }
  },
  "cells": [
    {
      "cell_type": "markdown",
      "source": [
        "#**Aula de python**\n",
        "\n",
        "##**operadores lógicos**"
      ],
      "metadata": {
        "id": "IZvS7OYWvCW_"
      }
    },
    {
      "cell_type": "markdown",
      "source": [
        "Adição | + |\n",
        "Subtração | - |\n",
        "Multiplicação | * |\n",
        "Divisão | / |\n",
        "Resto | % |"
      ],
      "metadata": {
        "id": "Ef1e1J0Rv0YP"
      }
    },
    {
      "cell_type": "code",
      "source": [
        "#Adição\n",
        "\n",
        "A = 5000\n",
        "\n",
        "B = 2\n",
        "\n",
        "MultiplicarA = A*3\n",
        "\n",
        "Soma = MultiplicarA + B\n",
        "\n",
        "print(\"Resultado de 3x A + B é igual: \",Soma)\n",
        "\n",
        "#somar 3x o valor A + o valor de B"
      ],
      "metadata": {
        "colab": {
          "base_uri": "https://localhost:8080/"
        },
        "id": "UG7GkUcqvazP",
        "outputId": "7f6ce4e6-2e26-4f1c-cf5d-afd2f100c8c0"
      },
      "execution_count": null,
      "outputs": [
        {
          "output_type": "stream",
          "name": "stdout",
          "text": [
            "Resultado de 3x A + B é igual:  15002\n"
          ]
        }
      ]
    },
    {
      "cell_type": "markdown",
      "source": [
        "#Praticando#\n"
      ],
      "metadata": {
        "id": "O9w7bgVsnmY6"
      }
    },
    {
      "cell_type": "code",
      "source": [
        "n1 = float(input('Digite um valor'))\n",
        "n2 = float(input('Digite outro valor'))\n",
        "x = n1 + n2\n",
        "print('O valor da soma entre {} e {} é {}'.format(n1, n2, x))\n"
      ],
      "metadata": {
        "colab": {
          "base_uri": "https://localhost:8080/"
        },
        "id": "Te296fGVn2Xa",
        "outputId": "8713c44e-8b3a-4579-e0f9-b4b284fa352f"
      },
      "execution_count": null,
      "outputs": [
        {
          "output_type": "stream",
          "name": "stdout",
          "text": [
            "Digite um valor8.5\n",
            "Digite outro valor7.5\n",
            "O valor da soma entre 8.5 e 7.5 é 16.0\n"
          ]
        }
      ]
    },
    {
      "cell_type": "code",
      "source": [
        "#Subtração\n",
        "\n",
        "A = 5000\n",
        "B = 2\n",
        "MultiplicarA = A*3\n",
        "Subtracao = MultiplicarA - B\n",
        "\n",
        "print(\"Resultado de 3x A - B é igual: \",Subtracao )\n",
        "\n",
        "#somar 3x o valor A - o valor de B"
      ],
      "metadata": {
        "colab": {
          "base_uri": "https://localhost:8080/"
        },
        "id": "xvIkhVkxwcgu",
        "outputId": "cb946332-392e-4d0d-d2f8-00aa2c3db4bf"
      },
      "execution_count": null,
      "outputs": [
        {
          "output_type": "stream",
          "name": "stdout",
          "text": [
            "Resultado de 3x A - B é igual:  14998\n"
          ]
        }
      ]
    },
    {
      "cell_type": "code",
      "execution_count": null,
      "metadata": {
        "colab": {
          "base_uri": "https://localhost:8080/"
        },
        "id": "h_unfN9wsKz9",
        "outputId": "69dc0e27-b01a-4bba-eb2e-50b5b373417d"
      },
      "outputs": [
        {
          "output_type": "stream",
          "name": "stdout",
          "text": [
            "11000  metros quadrados\n"
          ]
        }
      ],
      "source": [
        "#Multiplicação\n",
        "terrenoF = 50\n",
        "terrenoL = 220\n",
        "\n",
        "\n",
        "area = terrenoF * terrenoL\n",
        "\n",
        "print(area,\" metros quadrados\")"
      ]
    },
    {
      "cell_type": "code",
      "source": [
        "n = input(\"qual o seu nome: \")\n",
        "\n",
        "\n",
        "print(\"Olá \",n,\" Seja bem vindo ao python\")"
      ],
      "metadata": {
        "colab": {
          "base_uri": "https://localhost:8080/"
        },
        "id": "glbwY6RzsNnX",
        "outputId": "8ce39933-f75f-4d5d-e99d-685378dfdb4f"
      },
      "execution_count": null,
      "outputs": [
        {
          "output_type": "stream",
          "name": "stdout",
          "text": [
            "qual o seu nome: Erick\n",
            "Olá  Erick  Seja bem vindo ao python\n"
          ]
        }
      ]
    },
    {
      "cell_type": "markdown",
      "source": [
        "#**Aula de python**\n",
        "\n",
        "##**operadores lógicos**\n",
        "\n",
        "[Curso em vídeo](https://www.youtube.com/watch?v=S9uPNppGsGo&list=PLvE-ZAFRgX8hnECDn1v9HNTI71veL3oW0)"
      ],
      "metadata": {
        "id": "adcspeOF05Co"
      }
    }
  ]
}